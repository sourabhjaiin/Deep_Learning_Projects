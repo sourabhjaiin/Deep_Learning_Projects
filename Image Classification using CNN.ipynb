{
 "cells": [
  {
   "cell_type": "code",
   "execution_count": 22,
   "id": "08d314bf",
   "metadata": {},
   "outputs": [],
   "source": [
    "import pandas as pd\n",
    "import numpy as np\n",
    "from tensorflow.keras import datasets,layers,models\n",
    "import matplotlib.pyplot as plt\n",
    "import tensorflow as tf\n",
    "from tensorflow import keras"
   ]
  },
  {
   "cell_type": "code",
   "execution_count": 2,
   "id": "5d36ed8e",
   "metadata": {},
   "outputs": [],
   "source": [
    "(xtrain,ytrain),(xtest,ytest) = datasets.cifar10.load_data()"
   ]
  },
  {
   "cell_type": "code",
   "execution_count": 3,
   "id": "4cf3c7b4",
   "metadata": {},
   "outputs": [
    {
     "data": {
      "text/plain": [
       "(50000, 32, 32, 3)"
      ]
     },
     "execution_count": 3,
     "metadata": {},
     "output_type": "execute_result"
    }
   ],
   "source": [
    "xtrain.shape"
   ]
  },
  {
   "cell_type": "code",
   "execution_count": 4,
   "id": "00b03bf2",
   "metadata": {},
   "outputs": [
    {
     "data": {
      "text/plain": [
       "(50000, 1)"
      ]
     },
     "execution_count": 4,
     "metadata": {},
     "output_type": "execute_result"
    }
   ],
   "source": [
    "ytrain.shape"
   ]
  },
  {
   "cell_type": "code",
   "execution_count": 5,
   "id": "dd32a552",
   "metadata": {},
   "outputs": [
    {
     "data": {
      "text/plain": [
       "array([[6],\n",
       "       [9],\n",
       "       [9]], dtype=uint8)"
      ]
     },
     "execution_count": 5,
     "metadata": {},
     "output_type": "execute_result"
    }
   ],
   "source": [
    "ytrain[:3]"
   ]
  },
  {
   "cell_type": "code",
   "execution_count": 6,
   "id": "0464b3d4",
   "metadata": {},
   "outputs": [
    {
     "data": {
      "text/plain": [
       "array([6, 9, 9, 4, 1], dtype=uint8)"
      ]
     },
     "execution_count": 6,
     "metadata": {},
     "output_type": "execute_result"
    }
   ],
   "source": [
    "ytrain=ytrain.reshape(-1,)\n",
    "ytrain[:5]"
   ]
  },
  {
   "cell_type": "code",
   "execution_count": 18,
   "id": "bc4a0d67",
   "metadata": {},
   "outputs": [],
   "source": [
    "classes=[\"airplane\",\"autombile\",\"bird\",\"cat\",\"deer\",\"dog\",\"frog\",\"horse\",\"ship\",\"truck\"]"
   ]
  },
  {
   "cell_type": "code",
   "execution_count": 19,
   "id": "ec5f0f80",
   "metadata": {},
   "outputs": [],
   "source": [
    "def plot_sample(x,y,index):\n",
    "    plt.figure(figsize=(15,2))\n",
    "    plt.imshow(x[index])\n",
    "    plt.xlabel(classes[y[index]])"
   ]
  },
  {
   "cell_type": "code",
   "execution_count": 20,
   "id": "945378f1",
   "metadata": {},
   "outputs": [
    {
     "data": {
      "image/png": "[encoded data removed]",
      "text/plain": [
       "<Figure size 1080x144 with 1 Axes>"
      ]
     },
     "metadata": {
      "needs_background": "light"
     },
     "output_type": "display_data"
    }
   ],
   "source": [
    "plot_sample(xtrain,ytrain,1)"
   ]
  },
  {
   "cell_type": "code",
   "execution_count": 24,
   "id": "3967c680",
   "metadata": {},
   "outputs": [],
   "source": [
    "xtrain=xtrain/255\n",
    "xtest=xtest/255"
   ]
  },
  {
   "cell_type": "code",
   "execution_count": 25,
   "id": "e0c1bc03",
   "metadata": {},
   "outputs": [
    {
     "name": "stdout",
     "output_type": "stream",
     "text": [
      "Epoch 1/5\n",
      "1563/1563 [==============================] - 61s 39ms/step - loss: 1.8137 - accuracy: 0.3535\n",
      "Epoch 2/5\n",
      "1563/1563 [==============================] - 55s 35ms/step - loss: 1.6215 - accuracy: 0.4269\n",
      "Epoch 3/5\n",
      "1563/1563 [==============================] - 59s 38ms/step - loss: 1.5409 - accuracy: 0.4547\n",
      "Epoch 4/5\n",
      "1563/1563 [==============================] - 57s 36ms/step - loss: 1.4814 - accuracy: 0.4776\n",
      "Epoch 5/5\n",
      "1563/1563 [==============================] - 57s 36ms/step - loss: 1.4318 - accuracy: 0.4964\n"
     ]
    },
    {
     "data": {
      "text/plain": [
       "<keras.callbacks.History at 0x1e68e706488>"
      ]
     },
     "execution_count": 25,
     "metadata": {},
     "output_type": "execute_result"
    }
   ],
   "source": [
    "#model building\n",
    "\n",
    "model=keras.Sequential([\n",
    "    keras.layers.Flatten(input_shape=(32,32,3)),\n",
    "    keras.layers.Dense(3000,activation='relu'),\n",
    "    keras.layers.Dense(1000,activation='relu'),\n",
    "    keras.layers.Dense(10,activation='sigmoid')\n",
    "])\n",
    "\n",
    "\n",
    "#compiling model\n",
    "\n",
    "model.compile(optimizer='SGD',\n",
    "             loss='sparse_categorical_crossentropy',\n",
    "             metrics=['accuracy'])\n",
    "\n",
    "#fitting the model\n",
    "\n",
    "model.fit(xtrain,ytrain,epochs=5)"
   ]
  },
  {
   "cell_type": "code",
   "execution_count": 26,
   "id": "23e18686",
   "metadata": {},
   "outputs": [
    {
     "name": "stdout",
     "output_type": "stream",
     "text": [
      "313/313 [==============================] - 4s 10ms/step - loss: 1.5036 - accuracy: 0.4624\n"
     ]
    },
    {
     "data": {
      "text/plain": [
       "[1.5036245584487915, 0.46239998936653137]"
      ]
     },
     "execution_count": 26,
     "metadata": {},
     "output_type": "execute_result"
    }
   ],
   "source": [
    "model.evaluate(xtest,ytest)"
   ]
  },
  {
   "cell_type": "code",
   "execution_count": 28,
   "id": "e2e11e7b",
   "metadata": {},
   "outputs": [
    {
     "name": "stdout",
     "output_type": "stream",
     "text": [
      "313/313 [==============================] - 3s 9ms/step\n",
      "classification report : \n",
      "              precision    recall  f1-score   support\n",
      "\n",
      "           0       0.68      0.37      0.48      1000\n",
      "           1       0.53      0.69      0.60      1000\n",
      "           2       0.39      0.25      0.30      1000\n",
      "           3       0.35      0.36      0.36      1000\n",
      "           4       0.60      0.15      0.25      1000\n",
      "           5       0.51      0.24      0.32      1000\n",
      "           6       0.31      0.84      0.45      1000\n",
      "           7       0.52      0.55      0.54      1000\n",
      "           8       0.57      0.68      0.62      1000\n",
      "           9       0.63      0.49      0.55      1000\n",
      "\n",
      "    accuracy                           0.46     10000\n",
      "   macro avg       0.51      0.46      0.45     10000\n",
      "weighted avg       0.51      0.46      0.45     10000\n",
      "\n"
     ]
    }
   ],
   "source": [
    "from sklearn.metrics import classification_report, confusion_matrix\n",
    "ypred=model.predict(xtest)\n",
    "ypred_classes= [np.argmax(element) for element in ypred]\n",
    "print(\"classification report : \")\n",
    "print(classification_report(ytest,ypred_classes))"
   ]
  },
  {
   "cell_type": "markdown",
   "id": "ace29156",
   "metadata": {},
   "source": [
    "# Convolutional Neural Network"
   ]
  },
  {
   "cell_type": "code",
   "execution_count": null,
   "id": "64ec4b9a",
   "metadata": {},
   "outputs": [],
   "source": [
    "cnn=keras.Sequential([\n",
    "    \n",
    "    #cnn\n",
    "    layers.Conv2D(filters=32,kernal_size=(3,3),activation=\"relu\",input_shape=(32,32,3)),\n",
    "    layers.MaxPool2D((2,2)),\n",
    "    \n",
    "    layers.Conv2D(filters=64,kernal_size=(3,3),activation=\"relu\"),\n",
    "    layers.MaxPool2D((2,2)),\n",
    "    \n",
    "    #Dense\n",
    "    layers.Flatten(),\n",
    "    layers.Dense(64,activation='relu'),\n",
    "    layers.Dense(10,activation='softmax')\n",
    "])"
   ]
  },
  {
   "cell_type": "code",
   "execution_count": 32,
   "id": "a920374c",
   "metadata": {},
   "outputs": [
    {
     "name": "stdout",
     "output_type": "stream",
     "text": [
      "Epoch 1/10\n",
      "1563/1563 [==============================] - 56s 36ms/step - loss: 1.2898 - accuracy: 0.5466\n",
      "Epoch 2/10\n",
      "1563/1563 [==============================] - 62s 40ms/step - loss: 1.2562 - accuracy: 0.5599\n",
      "Epoch 3/10\n",
      "1563/1563 [==============================] - 64s 41ms/step - loss: 1.2272 - accuracy: 0.5695\n",
      "Epoch 4/10\n",
      "1563/1563 [==============================] - 58s 37ms/step - loss: 1.1989 - accuracy: 0.5810\n",
      "Epoch 5/10\n",
      "1563/1563 [==============================] - 61s 39ms/step - loss: 1.1709 - accuracy: 0.5906\n",
      "Epoch 6/10\n",
      "1563/1563 [==============================] - 61s 39ms/step - loss: 1.1421 - accuracy: 0.6020\n",
      "Epoch 7/10\n",
      "1563/1563 [==============================] - 57s 37ms/step - loss: 1.1166 - accuracy: 0.6101\n",
      "Epoch 8/10\n",
      "1563/1563 [==============================] - 56s 36ms/step - loss: 1.0882 - accuracy: 0.6220\n",
      "Epoch 9/10\n",
      "1563/1563 [==============================] - 56s 36ms/step - loss: 1.0647 - accuracy: 0.6294\n",
      "Epoch 10/10\n",
      "1563/1563 [==============================] - 57s 36ms/step - loss: 1.0391 - accuracy: 0.6384\n"
     ]
    },
    {
     "data": {
      "text/plain": [
       "<keras.callbacks.History at 0x1e68eba5d88>"
      ]
     },
     "execution_count": 32,
     "metadata": {},
     "output_type": "execute_result"
    }
   ],
   "source": [
    "cnn.compile(optimizer='SGD',\n",
    "             loss='sparse_categorical_crossentropy',\n",
    "             metrics=['accuracy'])\n",
    "\n",
    "#fitting the model\n",
    "\n",
    "cnn.fit(xtrain,ytrain,epochs=10)"
   ]
  },
  {
   "cell_type": "code",
   "execution_count": 34,
   "id": "b60b396a",
   "metadata": {},
   "outputs": [
    {
     "name": "stdout",
     "output_type": "stream",
     "text": [
      "313/313 [==============================] - 3s 9ms/step - loss: 1.4261 - accuracy: 0.4964\n"
     ]
    },
    {
     "data": {
      "text/plain": [
       "[1.4260821342468262, 0.49639999866485596]"
      ]
     },
     "execution_count": 34,
     "metadata": {},
     "output_type": "execute_result"
    }
   ],
   "source": [
    "cnn.evaluate(xtest,ytest)"
   ]
  },
  {
   "cell_type": "code",
   "execution_count": 35,
   "id": "9671365a",
   "metadata": {},
   "outputs": [
    {
     "name": "stdout",
     "output_type": "stream",
     "text": [
      "313/313 [==============================] - 3s 9ms/step\n",
      "classification report : \n",
      "              precision    recall  f1-score   support\n",
      "\n",
      "           0       0.66      0.47      0.55      1000\n",
      "           1       0.83      0.36      0.50      1000\n",
      "           2       0.33      0.64      0.44      1000\n",
      "           3       0.39      0.30      0.34      1000\n",
      "           4       0.52      0.39      0.45      1000\n",
      "           5       0.42      0.47      0.44      1000\n",
      "           6       0.75      0.38      0.50      1000\n",
      "           7       0.53      0.67      0.60      1000\n",
      "           8       0.81      0.47      0.60      1000\n",
      "           9       0.42      0.80      0.55      1000\n",
      "\n",
      "    accuracy                           0.50     10000\n",
      "   macro avg       0.57      0.50      0.50     10000\n",
      "weighted avg       0.57      0.50      0.50     10000\n",
      "\n"
     ]
    }
   ],
   "source": [
    "from sklearn.metrics import classification_report, confusion_matrix\n",
    "ypred=cnn.predict(xtest)\n",
    "ypred_classes= [np.argmax(element) for element in ypred]\n",
    "print(\"classification report : \")\n",
    "print(classification_report(ytest,ypred_classes))"
   ]
  },
  {
   "cell_type": "code",
   "execution_count": null,
   "id": "2dcc05d9",
   "metadata": {},
   "outputs": [],
   "source": []
  }
 ],
 "metadata": {
  "kernelspec": {
   "display_name": "Python 3 (ipykernel)",
   "language": "python",
   "name": "python3"
  },
  "language_info": {
   "codemirror_mode": {
    "name": "ipython",
    "version": 3
   },
   "file_extension": ".py",
   "mimetype": "text/x-python",
   "name": "python",
   "nbconvert_exporter": "python",
   "pygments_lexer": "ipython3",
   "version": "3.7.9"
  }
 },
 "nbformat": 4,
 "nbformat_minor": 5
}
